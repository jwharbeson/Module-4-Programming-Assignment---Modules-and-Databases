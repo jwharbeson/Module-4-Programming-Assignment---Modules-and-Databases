{
 "cells": [
  {
   "cell_type": "code",
   "execution_count": null,
   "id": "bef12e76-1ab7-416a-a99d-e824324a1e86",
   "metadata": {},
   "outputs": [],
   "source": [
    "def hours():\n",
    "    print('Open 9-5 daily')"
   ]
  },
  {
   "cell_type": "code",
   "execution_count": null,
   "id": "79bc4401-c483-4172-a70a-be99ce6b1235",
   "metadata": {},
   "outputs": [],
   "source": [
    "import zoo\n",
    "zoo.hours()"
   ]
  },
  {
   "cell_type": "markdown",
   "id": "5459ac8c-3c0f-4ce3-bf19-2d90a40e7325",
   "metadata": {},
   "source": [
    "Open 9-5 daily"
   ]
  },
  {
   "cell_type": "code",
   "execution_count": null,
   "id": "660ca95c-8975-4b51-a6ee-3ca0aebe5022",
   "metadata": {},
   "outputs": [],
   "source": [
    "import zoo as menagerie\n",
    "menagerie.hours()"
   ]
  },
  {
   "cell_type": "code",
   "execution_count": null,
   "id": "516b640a-8cb0-4131-98fb-968501582e29",
   "metadata": {},
   "outputs": [],
   "source": [
    "Open 9-5 daily"
   ]
  }
 ],
 "metadata": {
  "kernelspec": {
   "display_name": "Python 3 (ipykernel)",
   "language": "python",
   "name": "python3"
  },
  "language_info": {
   "codemirror_mode": {
    "name": "ipython",
    "version": 3
   },
   "file_extension": ".py",
   "mimetype": "text/x-python",
   "name": "python",
   "nbconvert_exporter": "python",
   "pygments_lexer": "ipython3",
   "version": "3.12.4"
  }
 },
 "nbformat": 4,
 "nbformat_minor": 5
}
